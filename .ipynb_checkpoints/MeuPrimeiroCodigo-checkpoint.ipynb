{
 "cells": [
  {
   "cell_type": "markdown",
   "id": "c3ed7302-618d-48ce-835b-82378995ba01",
   "metadata": {},
   "source": [
    "Texto explicativo do que vou fazer no meu código"
   ]
  },
  {
   "cell_type": "code",
   "execution_count": 1,
   "id": "dcddc3d7-bb69-4d08-99db-597e161146ca",
   "metadata": {},
   "outputs": [
    {
     "name": "stdout",
     "output_type": "stream",
     "text": [
      "Hello World!\n"
     ]
    }
   ],
   "source": [
    "print(\"Hello World!\")"
   ]
  },
  {
   "cell_type": "code",
   "execution_count": 2,
   "id": "7dacf324-8e7f-4b43-b577-2639db6fbc62",
   "metadata": {},
   "outputs": [
    {
     "name": "stdin",
     "output_type": "stream",
     "text": [
      "Digite um nome:  geovana\n",
      "Informe sua idade:  19\n"
     ]
    },
    {
     "name": "stdout",
     "output_type": "stream",
     "text": [
      "Meu nome é geovana e eu tenho 19 anos\n"
     ]
    }
   ],
   "source": [
    "nome = input(\"Digite um nome: \")\n",
    "idade = int(input(\"Informe sua idade: \"))\n",
    "print(f\"Meu nome é {nome} e eu tenho {idade} anos\")"
   ]
  },
  {
   "cell_type": "code",
   "execution_count": null,
   "id": "91bc97d3-76a4-4e02-a4bf-b1122479d96b",
   "metadata": {},
   "outputs": [],
   "source": []
  }
 ],
 "metadata": {
  "kernelspec": {
   "display_name": "Python 3 (ipykernel)",
   "language": "python",
   "name": "python3"
  },
  "language_info": {
   "codemirror_mode": {
    "name": "ipython",
    "version": 3
   },
   "file_extension": ".py",
   "mimetype": "text/x-python",
   "name": "python",
   "nbconvert_exporter": "python",
   "pygments_lexer": "ipython3",
   "version": "3.12.4"
  }
 },
 "nbformat": 4,
 "nbformat_minor": 5
}
